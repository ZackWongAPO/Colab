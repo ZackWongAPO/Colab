{
  "nbformat": 4,
  "nbformat_minor": 0,
  "metadata": {
    "colab": {
      "provenance": [],
      "gpuType": "T4",
      "authorship_tag": "ABX9TyOBCx4onFiKNY+lDZU+e5f9",
      "include_colab_link": true
    },
    "kernelspec": {
      "name": "python3",
      "display_name": "Python 3"
    },
    "language_info": {
      "name": "python"
    },
    "accelerator": "GPU"
  },
  "cells": [
    {
      "cell_type": "markdown",
      "metadata": {
        "id": "view-in-github",
        "colab_type": "text"
      },
      "source": [
        "<a href=\"https://colab.research.google.com/github/ZackWongAPO/Colab/blob/main/Taxi.ipynb\" target=\"_parent\"><img src=\"https://colab.research.google.com/assets/colab-badge.svg\" alt=\"Open In Colab\"/></a>"
      ]
    },
    {
      "cell_type": "markdown",
      "source": [
        "#认识开发环境\n"
      ],
      "metadata": {
        "id": "p2siQsEXwOkA"
      }
    },
    {
      "cell_type": "markdown",
      "source": [
        "##了解Colab\n",
        ">Colab是一个在线笔记本，相当于OneNote的在线版本，并且可以将内容保存在GitHub账户上，主要支持Python系编程语言与多种文本注释语言，例如Markdown，LATEX，终端命令行等等，与线下Python编辑器不同，Colab允许用户对代码块进行分块执行，并且可以快速协作，不用不知道，一用是真香。\n",
        ">>此页面并非Colab主页，只能在[Colab](https://colab.google/)中创建自己的笔记本，对大多数开源笔记本也只能保存副本至GitHub账户\n"
      ],
      "metadata": {
        "id": "mH0wAYmBeruy"
      }
    },
    {
      "cell_type": "markdown",
      "source": [
        "###Colab上的磁盘空间\n",
        ">>Colab上的文件运行是在云端虚拟机上，因此下载的各种Python库都下载到云端虚拟机上，与电脑关系不大，如果使用GPU加速，Colab将会分配更多的虚拟机内存，但是这还远远不够，如果要增加虚拟机内存只能购买ColabPro或者多开几个账号，与Google云盘的存储空间没有太大关系。通过以下代码可以实现将谷歌云中的文件保存在Colab虚拟机上[baidu](https://www.baidu.com)"
      ],
      "metadata": {
        "id": "SWiUdGMvexWZ"
      }
    },
    {
      "cell_type": "code",
      "source": [
        "# 在content/drive文件夹下，两者文件共享\n",
        "from google.colab import drive\n",
        "drive.mount('/content/drive')"
      ],
      "metadata": {
        "colab": {
          "base_uri": "https://localhost:8080/"
        },
        "id": "d4Oe8zNEzTMp",
        "outputId": "150fb51b-2b92-4e20-c089-f1def6b0572c"
      },
      "execution_count": null,
      "outputs": [
        {
          "output_type": "stream",
          "name": "stdout",
          "text": [
            "Mounted at /content/drive\n"
          ]
        }
      ]
    },
    {
      "cell_type": "markdown",
      "source": [
        "###在Colab上使用GPU加速\n",
        ">选择顶部工具栏中的`代码执行程序`子目录下的`更改运行时类型`中的`GPU`，从而使用云端图形加速。通过以下代码查看现在是否正在使用GPU加速"
      ],
      "metadata": {
        "id": "kyp6pZSk8bTW"
      }
    },
    {
      "cell_type": "code",
      "source": [
        "!nvidia-smi"
      ],
      "metadata": {
        "colab": {
          "base_uri": "https://localhost:8080/"
        },
        "id": "WwZOoG9f8Q7t",
        "outputId": "3ded8130-4806-4ca7-99d8-24c69470ff72"
      },
      "execution_count": null,
      "outputs": [
        {
          "output_type": "stream",
          "name": "stdout",
          "text": [
            "Wed Sep 25 02:10:16 2024       \n",
            "+---------------------------------------------------------------------------------------+\n",
            "| NVIDIA-SMI 535.104.05             Driver Version: 535.104.05   CUDA Version: 12.2     |\n",
            "|-----------------------------------------+----------------------+----------------------+\n",
            "| GPU  Name                 Persistence-M | Bus-Id        Disp.A | Volatile Uncorr. ECC |\n",
            "| Fan  Temp   Perf          Pwr:Usage/Cap |         Memory-Usage | GPU-Util  Compute M. |\n",
            "|                                         |                      |               MIG M. |\n",
            "|=========================================+======================+======================|\n",
            "|   0  Tesla T4                       Off | 00000000:00:04.0 Off |                    0 |\n",
            "| N/A   36C    P8               9W /  70W |      0MiB / 15360MiB |      0%      Default |\n",
            "|                                         |                      |                  N/A |\n",
            "+-----------------------------------------+----------------------+----------------------+\n",
            "                                                                                         \n",
            "+---------------------------------------------------------------------------------------+\n",
            "| Processes:                                                                            |\n",
            "|  GPU   GI   CI        PID   Type   Process name                            GPU Memory |\n",
            "|        ID   ID                                                             Usage      |\n",
            "|=======================================================================================|\n",
            "|  No running processes found                                                           |\n",
            "+---------------------------------------------------------------------------------------+\n"
          ]
        }
      ]
    },
    {
      "cell_type": "markdown",
      "source": [
        "##应用CUDA\n",
        ">CUDA是NVIDIA公司开发的，能用GPU运算除了图形化处理之外的计算机算法的库。没有CUDA，GPU就只能用来打游戏，现在可以应用其来跑机器学习模型。以下代码就可以检测是否已经加载CUDA，如果此时使用CPU加速，则返回值应该是`False`,GPU加速的话应该返回的是`True`"
      ],
      "metadata": {
        "id": "YOetkwvB9-fM"
      }
    },
    {
      "cell_type": "code",
      "source": [
        "import torch as th\n",
        "th.cuda.is_available()\n"
      ],
      "metadata": {
        "colab": {
          "base_uri": "https://localhost:8080/"
        },
        "id": "_cVnHlYCyaLp",
        "outputId": "fc55f6d7-d456-40cb-dac0-90cac20dc340"
      },
      "execution_count": null,
      "outputs": [
        {
          "output_type": "execute_result",
          "data": {
            "text/plain": [
              "True"
            ]
          },
          "metadata": {},
          "execution_count": 1
        }
      ]
    },
    {
      "cell_type": "markdown",
      "source": [
        "##各Python机器学习库之间的关系\n",
        "  >Keras, Tensorflow都是封装好的Python机器学习库\n",
        "  >>Tensorflow相对底层，可以直接操作网络图和会话，上手难度较高，相当于机器学习领域的C语言。\n",
        "  "
      ],
      "metadata": {
        "id": "eCkhw9YWdR26"
      }
    },
    {
      "cell_type": "markdown",
      "source": [
        ">>Keras相对顶层，将各种复杂的参数传递过程封装起来，上手简单，相当于机器学习领域的Python。"
      ],
      "metadata": {
        "id": "Y7YtWVbaf2sy"
      }
    },
    {
      "cell_type": "markdown",
      "source": [
        "#开始应用线性回归进行预测"
      ],
      "metadata": {
        "id": "Da4aimkYf8yT"
      }
    },
    {
      "cell_type": "markdown",
      "source": [
        "##第一部分：加载所需模块和数据库"
      ],
      "metadata": {
        "id": "WP2h9FnSmBRk"
      }
    },
    {
      "cell_type": "markdown",
      "source": [
        "###第一步，在colab中加载所需要的Python库"
      ],
      "metadata": {
        "id": "At77gXxxgDKU"
      }
    },
    {
      "cell_type": "code",
      "source": [
        "# 库的加载\n",
        "\n",
        "# general\n",
        "import io\n",
        "\n",
        "# data processing\n",
        "import numpy\n",
        "import pandas\n",
        "\n",
        "# machine learning support\n",
        "import keras\n",
        "\n",
        "# data visualization\n",
        "import plotly.express as px\n",
        "import plotly.subplots as sb\n",
        "import plotly.graph_objects as go\n",
        "import seaborn"
      ],
      "metadata": {
        "id": "eY89AIv-gL4b"
      },
      "execution_count": null,
      "outputs": []
    },
    {
      "cell_type": "markdown",
      "source": [
        "###第二步加载数据库\n",
        ">加载csv文件(*Comma-Separated Values, 用逗号分隔的纯文本文件，优点是占体积小，作为数据库来说易于下载*)至pandas数据格式(*把它变成让Python可以识别的表格的形式*)"
      ],
      "metadata": {
        "id": "WR5LXAK0hUHC"
      }
    },
    {
      "cell_type": "code",
      "source": [
        "# load the dataset\n",
        "chicago_taxi_dataset = pandas.read_csv(\"https://download.mlcc.google.com/mledu-datasets/chicago_taxi_train.csv\")"
      ],
      "metadata": {
        "id": "2zKs78WMjsBM"
      },
      "execution_count": null,
      "outputs": []
    },
    {
      "cell_type": "markdown",
      "source": [
        "###第三步从数据库中筛选所需要的属性值作为训练集\n"
      ],
      "metadata": {
        "id": "Ax6ybPwdkLbz"
      }
    },
    {
      "cell_type": "code",
      "source": [
        "# Updates dataframe to use specific columns\n",
        "training_df = chicago_taxi_dataset[['TRIP_MILES', 'TRIP_SECONDS', 'FARE', 'COMPANY', 'PAYMENT_TYPE', 'TIP_RATE']]\n",
        "\n",
        "print('Read dataset completed successfully.')\n",
        "print('Total number of rows: {0}\\n\\n'.format(len(training_df.index)))\n",
        "training_df.head(200)"
      ],
      "metadata": {
        "id": "YhdYJcomkzUa",
        "outputId": "a9f68715-3ee4-4434-9279-dc0c4506d8ba",
        "colab": {
          "base_uri": "https://localhost:8080/",
          "height": 497
        }
      },
      "execution_count": null,
      "outputs": [
        {
          "output_type": "stream",
          "name": "stdout",
          "text": [
            "Read dataset completed successfully.\n",
            "Total number of rows: 31694\n",
            "\n",
            "\n"
          ]
        },
        {
          "output_type": "execute_result",
          "data": {
            "text/plain": [
              "     TRIP_MILES  TRIP_SECONDS   FARE                       COMPANY  \\\n",
              "0          2.57          2341  31.99                     Flash Cab   \n",
              "1          1.18          1074   9.75                     Flash Cab   \n",
              "2          1.29          1173  10.25                      Sun Taxi   \n",
              "3          3.70          3360  23.75       Choice Taxi Association   \n",
              "4          1.15          1044  10.00                     Flash Cab   \n",
              "..          ...           ...    ...                           ...   \n",
              "195        1.13           821   9.00  Blue Ribbon Taxi Association   \n",
              "196        0.57           414   6.00                     Flash Cab   \n",
              "197        1.22           886   9.00                  City Service   \n",
              "198        1.68          1219   9.00                      Sun Taxi   \n",
              "199        0.71           515   6.50                      Sun Taxi   \n",
              "\n",
              "    PAYMENT_TYPE  TIP_RATE  \n",
              "0         Mobile       6.3  \n",
              "1    Credit Card      27.9  \n",
              "2           Cash       0.0  \n",
              "3           Cash       0.0  \n",
              "4           Cash       0.0  \n",
              "..           ...       ...  \n",
              "195       Mobile      22.9  \n",
              "196         Cash       0.0  \n",
              "197         Cash       0.0  \n",
              "198       Mobile      23.0  \n",
              "199  Credit Card      18.2  \n",
              "\n",
              "[200 rows x 6 columns]"
            ],
            "text/html": [
              "\n",
              "  <div id=\"df-0f677875-543d-4af4-9f2f-28e2113aaa70\" class=\"colab-df-container\">\n",
              "    <div>\n",
              "<style scoped>\n",
              "    .dataframe tbody tr th:only-of-type {\n",
              "        vertical-align: middle;\n",
              "    }\n",
              "\n",
              "    .dataframe tbody tr th {\n",
              "        vertical-align: top;\n",
              "    }\n",
              "\n",
              "    .dataframe thead th {\n",
              "        text-align: right;\n",
              "    }\n",
              "</style>\n",
              "<table border=\"1\" class=\"dataframe\">\n",
              "  <thead>\n",
              "    <tr style=\"text-align: right;\">\n",
              "      <th></th>\n",
              "      <th>TRIP_MILES</th>\n",
              "      <th>TRIP_SECONDS</th>\n",
              "      <th>FARE</th>\n",
              "      <th>COMPANY</th>\n",
              "      <th>PAYMENT_TYPE</th>\n",
              "      <th>TIP_RATE</th>\n",
              "    </tr>\n",
              "  </thead>\n",
              "  <tbody>\n",
              "    <tr>\n",
              "      <th>0</th>\n",
              "      <td>2.57</td>\n",
              "      <td>2341</td>\n",
              "      <td>31.99</td>\n",
              "      <td>Flash Cab</td>\n",
              "      <td>Mobile</td>\n",
              "      <td>6.3</td>\n",
              "    </tr>\n",
              "    <tr>\n",
              "      <th>1</th>\n",
              "      <td>1.18</td>\n",
              "      <td>1074</td>\n",
              "      <td>9.75</td>\n",
              "      <td>Flash Cab</td>\n",
              "      <td>Credit Card</td>\n",
              "      <td>27.9</td>\n",
              "    </tr>\n",
              "    <tr>\n",
              "      <th>2</th>\n",
              "      <td>1.29</td>\n",
              "      <td>1173</td>\n",
              "      <td>10.25</td>\n",
              "      <td>Sun Taxi</td>\n",
              "      <td>Cash</td>\n",
              "      <td>0.0</td>\n",
              "    </tr>\n",
              "    <tr>\n",
              "      <th>3</th>\n",
              "      <td>3.70</td>\n",
              "      <td>3360</td>\n",
              "      <td>23.75</td>\n",
              "      <td>Choice Taxi Association</td>\n",
              "      <td>Cash</td>\n",
              "      <td>0.0</td>\n",
              "    </tr>\n",
              "    <tr>\n",
              "      <th>4</th>\n",
              "      <td>1.15</td>\n",
              "      <td>1044</td>\n",
              "      <td>10.00</td>\n",
              "      <td>Flash Cab</td>\n",
              "      <td>Cash</td>\n",
              "      <td>0.0</td>\n",
              "    </tr>\n",
              "    <tr>\n",
              "      <th>...</th>\n",
              "      <td>...</td>\n",
              "      <td>...</td>\n",
              "      <td>...</td>\n",
              "      <td>...</td>\n",
              "      <td>...</td>\n",
              "      <td>...</td>\n",
              "    </tr>\n",
              "    <tr>\n",
              "      <th>195</th>\n",
              "      <td>1.13</td>\n",
              "      <td>821</td>\n",
              "      <td>9.00</td>\n",
              "      <td>Blue Ribbon Taxi Association</td>\n",
              "      <td>Mobile</td>\n",
              "      <td>22.9</td>\n",
              "    </tr>\n",
              "    <tr>\n",
              "      <th>196</th>\n",
              "      <td>0.57</td>\n",
              "      <td>414</td>\n",
              "      <td>6.00</td>\n",
              "      <td>Flash Cab</td>\n",
              "      <td>Cash</td>\n",
              "      <td>0.0</td>\n",
              "    </tr>\n",
              "    <tr>\n",
              "      <th>197</th>\n",
              "      <td>1.22</td>\n",
              "      <td>886</td>\n",
              "      <td>9.00</td>\n",
              "      <td>City Service</td>\n",
              "      <td>Cash</td>\n",
              "      <td>0.0</td>\n",
              "    </tr>\n",
              "    <tr>\n",
              "      <th>198</th>\n",
              "      <td>1.68</td>\n",
              "      <td>1219</td>\n",
              "      <td>9.00</td>\n",
              "      <td>Sun Taxi</td>\n",
              "      <td>Mobile</td>\n",
              "      <td>23.0</td>\n",
              "    </tr>\n",
              "    <tr>\n",
              "      <th>199</th>\n",
              "      <td>0.71</td>\n",
              "      <td>515</td>\n",
              "      <td>6.50</td>\n",
              "      <td>Sun Taxi</td>\n",
              "      <td>Credit Card</td>\n",
              "      <td>18.2</td>\n",
              "    </tr>\n",
              "  </tbody>\n",
              "</table>\n",
              "<p>200 rows × 6 columns</p>\n",
              "</div>\n",
              "    <div class=\"colab-df-buttons\">\n",
              "\n",
              "  <div class=\"colab-df-container\">\n",
              "    <button class=\"colab-df-convert\" onclick=\"convertToInteractive('df-0f677875-543d-4af4-9f2f-28e2113aaa70')\"\n",
              "            title=\"Convert this dataframe to an interactive table.\"\n",
              "            style=\"display:none;\">\n",
              "\n",
              "  <svg xmlns=\"http://www.w3.org/2000/svg\" height=\"24px\" viewBox=\"0 -960 960 960\">\n",
              "    <path d=\"M120-120v-720h720v720H120Zm60-500h600v-160H180v160Zm220 220h160v-160H400v160Zm0 220h160v-160H400v160ZM180-400h160v-160H180v160Zm440 0h160v-160H620v160ZM180-180h160v-160H180v160Zm440 0h160v-160H620v160Z\"/>\n",
              "  </svg>\n",
              "    </button>\n",
              "\n",
              "  <style>\n",
              "    .colab-df-container {\n",
              "      display:flex;\n",
              "      gap: 12px;\n",
              "    }\n",
              "\n",
              "    .colab-df-convert {\n",
              "      background-color: #E8F0FE;\n",
              "      border: none;\n",
              "      border-radius: 50%;\n",
              "      cursor: pointer;\n",
              "      display: none;\n",
              "      fill: #1967D2;\n",
              "      height: 32px;\n",
              "      padding: 0 0 0 0;\n",
              "      width: 32px;\n",
              "    }\n",
              "\n",
              "    .colab-df-convert:hover {\n",
              "      background-color: #E2EBFA;\n",
              "      box-shadow: 0px 1px 2px rgba(60, 64, 67, 0.3), 0px 1px 3px 1px rgba(60, 64, 67, 0.15);\n",
              "      fill: #174EA6;\n",
              "    }\n",
              "\n",
              "    .colab-df-buttons div {\n",
              "      margin-bottom: 4px;\n",
              "    }\n",
              "\n",
              "    [theme=dark] .colab-df-convert {\n",
              "      background-color: #3B4455;\n",
              "      fill: #D2E3FC;\n",
              "    }\n",
              "\n",
              "    [theme=dark] .colab-df-convert:hover {\n",
              "      background-color: #434B5C;\n",
              "      box-shadow: 0px 1px 3px 1px rgba(0, 0, 0, 0.15);\n",
              "      filter: drop-shadow(0px 1px 2px rgba(0, 0, 0, 0.3));\n",
              "      fill: #FFFFFF;\n",
              "    }\n",
              "  </style>\n",
              "\n",
              "    <script>\n",
              "      const buttonEl =\n",
              "        document.querySelector('#df-0f677875-543d-4af4-9f2f-28e2113aaa70 button.colab-df-convert');\n",
              "      buttonEl.style.display =\n",
              "        google.colab.kernel.accessAllowed ? 'block' : 'none';\n",
              "\n",
              "      async function convertToInteractive(key) {\n",
              "        const element = document.querySelector('#df-0f677875-543d-4af4-9f2f-28e2113aaa70');\n",
              "        const dataTable =\n",
              "          await google.colab.kernel.invokeFunction('convertToInteractive',\n",
              "                                                    [key], {});\n",
              "        if (!dataTable) return;\n",
              "\n",
              "        const docLinkHtml = 'Like what you see? Visit the ' +\n",
              "          '<a target=\"_blank\" href=https://colab.research.google.com/notebooks/data_table.ipynb>data table notebook</a>'\n",
              "          + ' to learn more about interactive tables.';\n",
              "        element.innerHTML = '';\n",
              "        dataTable['output_type'] = 'display_data';\n",
              "        await google.colab.output.renderOutput(dataTable, element);\n",
              "        const docLink = document.createElement('div');\n",
              "        docLink.innerHTML = docLinkHtml;\n",
              "        element.appendChild(docLink);\n",
              "      }\n",
              "    </script>\n",
              "  </div>\n",
              "\n",
              "\n",
              "<div id=\"df-e796e75a-9c78-43c7-b735-7bcf5a61a19a\">\n",
              "  <button class=\"colab-df-quickchart\" onclick=\"quickchart('df-e796e75a-9c78-43c7-b735-7bcf5a61a19a')\"\n",
              "            title=\"Suggest charts\"\n",
              "            style=\"display:none;\">\n",
              "\n",
              "<svg xmlns=\"http://www.w3.org/2000/svg\" height=\"24px\"viewBox=\"0 0 24 24\"\n",
              "     width=\"24px\">\n",
              "    <g>\n",
              "        <path d=\"M19 3H5c-1.1 0-2 .9-2 2v14c0 1.1.9 2 2 2h14c1.1 0 2-.9 2-2V5c0-1.1-.9-2-2-2zM9 17H7v-7h2v7zm4 0h-2V7h2v10zm4 0h-2v-4h2v4z\"/>\n",
              "    </g>\n",
              "</svg>\n",
              "  </button>\n",
              "\n",
              "<style>\n",
              "  .colab-df-quickchart {\n",
              "      --bg-color: #E8F0FE;\n",
              "      --fill-color: #1967D2;\n",
              "      --hover-bg-color: #E2EBFA;\n",
              "      --hover-fill-color: #174EA6;\n",
              "      --disabled-fill-color: #AAA;\n",
              "      --disabled-bg-color: #DDD;\n",
              "  }\n",
              "\n",
              "  [theme=dark] .colab-df-quickchart {\n",
              "      --bg-color: #3B4455;\n",
              "      --fill-color: #D2E3FC;\n",
              "      --hover-bg-color: #434B5C;\n",
              "      --hover-fill-color: #FFFFFF;\n",
              "      --disabled-bg-color: #3B4455;\n",
              "      --disabled-fill-color: #666;\n",
              "  }\n",
              "\n",
              "  .colab-df-quickchart {\n",
              "    background-color: var(--bg-color);\n",
              "    border: none;\n",
              "    border-radius: 50%;\n",
              "    cursor: pointer;\n",
              "    display: none;\n",
              "    fill: var(--fill-color);\n",
              "    height: 32px;\n",
              "    padding: 0;\n",
              "    width: 32px;\n",
              "  }\n",
              "\n",
              "  .colab-df-quickchart:hover {\n",
              "    background-color: var(--hover-bg-color);\n",
              "    box-shadow: 0 1px 2px rgba(60, 64, 67, 0.3), 0 1px 3px 1px rgba(60, 64, 67, 0.15);\n",
              "    fill: var(--button-hover-fill-color);\n",
              "  }\n",
              "\n",
              "  .colab-df-quickchart-complete:disabled,\n",
              "  .colab-df-quickchart-complete:disabled:hover {\n",
              "    background-color: var(--disabled-bg-color);\n",
              "    fill: var(--disabled-fill-color);\n",
              "    box-shadow: none;\n",
              "  }\n",
              "\n",
              "  .colab-df-spinner {\n",
              "    border: 2px solid var(--fill-color);\n",
              "    border-color: transparent;\n",
              "    border-bottom-color: var(--fill-color);\n",
              "    animation:\n",
              "      spin 1s steps(1) infinite;\n",
              "  }\n",
              "\n",
              "  @keyframes spin {\n",
              "    0% {\n",
              "      border-color: transparent;\n",
              "      border-bottom-color: var(--fill-color);\n",
              "      border-left-color: var(--fill-color);\n",
              "    }\n",
              "    20% {\n",
              "      border-color: transparent;\n",
              "      border-left-color: var(--fill-color);\n",
              "      border-top-color: var(--fill-color);\n",
              "    }\n",
              "    30% {\n",
              "      border-color: transparent;\n",
              "      border-left-color: var(--fill-color);\n",
              "      border-top-color: var(--fill-color);\n",
              "      border-right-color: var(--fill-color);\n",
              "    }\n",
              "    40% {\n",
              "      border-color: transparent;\n",
              "      border-right-color: var(--fill-color);\n",
              "      border-top-color: var(--fill-color);\n",
              "    }\n",
              "    60% {\n",
              "      border-color: transparent;\n",
              "      border-right-color: var(--fill-color);\n",
              "    }\n",
              "    80% {\n",
              "      border-color: transparent;\n",
              "      border-right-color: var(--fill-color);\n",
              "      border-bottom-color: var(--fill-color);\n",
              "    }\n",
              "    90% {\n",
              "      border-color: transparent;\n",
              "      border-bottom-color: var(--fill-color);\n",
              "    }\n",
              "  }\n",
              "</style>\n",
              "\n",
              "  <script>\n",
              "    async function quickchart(key) {\n",
              "      const quickchartButtonEl =\n",
              "        document.querySelector('#' + key + ' button');\n",
              "      quickchartButtonEl.disabled = true;  // To prevent multiple clicks.\n",
              "      quickchartButtonEl.classList.add('colab-df-spinner');\n",
              "      try {\n",
              "        const charts = await google.colab.kernel.invokeFunction(\n",
              "            'suggestCharts', [key], {});\n",
              "      } catch (error) {\n",
              "        console.error('Error during call to suggestCharts:', error);\n",
              "      }\n",
              "      quickchartButtonEl.classList.remove('colab-df-spinner');\n",
              "      quickchartButtonEl.classList.add('colab-df-quickchart-complete');\n",
              "    }\n",
              "    (() => {\n",
              "      let quickchartButtonEl =\n",
              "        document.querySelector('#df-e796e75a-9c78-43c7-b735-7bcf5a61a19a button');\n",
              "      quickchartButtonEl.style.display =\n",
              "        google.colab.kernel.accessAllowed ? 'block' : 'none';\n",
              "    })();\n",
              "  </script>\n",
              "</div>\n",
              "\n",
              "    </div>\n",
              "  </div>\n"
            ],
            "application/vnd.google.colaboratory.intrinsic+json": {
              "type": "dataframe",
              "variable_name": "training_df",
              "summary": "{\n  \"name\": \"training_df\",\n  \"rows\": 31694,\n  \"fields\": [\n    {\n      \"column\": \"TRIP_MILES\",\n      \"properties\": {\n        \"dtype\": \"number\",\n        \"std\": 7.265671862747363,\n        \"min\": 0.5,\n        \"max\": 68.12,\n        \"num_unique_values\": 2602,\n        \"samples\": [\n          11.25,\n          6.07,\n          3.4\n        ],\n        \"semantic_type\": \"\",\n        \"description\": \"\"\n      }\n    },\n    {\n      \"column\": \"TRIP_SECONDS\",\n      \"properties\": {\n        \"dtype\": \"number\",\n        \"std\": 928,\n        \"min\": 60,\n        \"max\": 7140,\n        \"num_unique_values\": 3740,\n        \"samples\": [\n          2242,\n          805,\n          407\n        ],\n        \"semantic_type\": \"\",\n        \"description\": \"\"\n      }\n    },\n    {\n      \"column\": \"FARE\",\n      \"properties\": {\n        \"dtype\": \"number\",\n        \"std\": 16.970021587147304,\n        \"min\": 3.25,\n        \"max\": 159.25,\n        \"num_unique_values\": 1597,\n        \"samples\": [\n          17.72,\n          22.0,\n          36.75\n        ],\n        \"semantic_type\": \"\",\n        \"description\": \"\"\n      }\n    },\n    {\n      \"column\": \"COMPANY\",\n      \"properties\": {\n        \"dtype\": \"category\",\n        \"num_unique_values\": 31,\n        \"samples\": [\n          \"6574 - Babylon Express Inc.\",\n          \"U Taxicab\",\n          \"Setare Inc\"\n        ],\n        \"semantic_type\": \"\",\n        \"description\": \"\"\n      }\n    },\n    {\n      \"column\": \"PAYMENT_TYPE\",\n      \"properties\": {\n        \"dtype\": \"category\",\n        \"num_unique_values\": 7,\n        \"samples\": [\n          \"Mobile\",\n          \"Credit Card\",\n          \"No Charge\"\n        ],\n        \"semantic_type\": \"\",\n        \"description\": \"\"\n      }\n    },\n    {\n      \"column\": \"TIP_RATE\",\n      \"properties\": {\n        \"dtype\": \"number\",\n        \"std\": 15.517765015197975,\n        \"min\": 0.0,\n        \"max\": 648.6,\n        \"num_unique_values\": 506,\n        \"samples\": [\n          15.5,\n          54.9,\n          296.3\n        ],\n        \"semantic_type\": \"\",\n        \"description\": \"\"\n      }\n    }\n  ]\n}"
            }
          },
          "metadata": {},
          "execution_count": 5
        }
      ]
    },
    {
      "cell_type": "code",
      "source": [],
      "metadata": {
        "id": "0LelOkNdl9Us"
      },
      "execution_count": null,
      "outputs": []
    },
    {
      "cell_type": "markdown",
      "source": [
        "##第二部分：数据挖掘"
      ],
      "metadata": {
        "id": "HvMy_-hZmVRs"
      }
    }
  ]
}