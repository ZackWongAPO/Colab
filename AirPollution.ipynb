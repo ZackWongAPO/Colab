{
  "nbformat": 4,
  "nbformat_minor": 0,
  "metadata": {
    "colab": {
      "provenance": [],
      "gpuType": "T4",
      "authorship_tag": "ABX9TyMzvrNZC5NvHwXFn6MIRKve",
      "include_colab_link": true
    },
    "kernelspec": {
      "name": "python3",
      "display_name": "Python 3"
    },
    "language_info": {
      "name": "python"
    },
    "accelerator": "GPU"
  },
  "cells": [
    {
      "cell_type": "markdown",
      "metadata": {
        "id": "view-in-github",
        "colab_type": "text"
      },
      "source": [
        "<a href=\"https://colab.research.google.com/github/ZackWongAPO/Colab/blob/main/AirPollution.ipynb\" target=\"_parent\"><img src=\"https://colab.research.google.com/assets/colab-badge.svg\" alt=\"Open In Colab\"/></a>"
      ]
    },
    {
      "cell_type": "markdown",
      "source": [
        "#预测空气质量回归模型\n",
        "##了解Colab\n",
        ">Colab是一个在线笔记本，相当于OneNote的在线版本，并且可以将内容保存在GitHub账户上，主要支持Python系编程语言与多种文本注释语言，例如Markdown，LATEX，终端命令行等等，与线下Python编辑器不同，Colab允许用户对代码块进行分块执行，并且可以快速协作，不用不知道，一用是真香。\n",
        ">>此页面并非Colab主页，只能在[Colab](https://colab.google/)中创建自己的笔记本，对大多数开源笔记本也只能保存副本至GitHub账户\n",
        "##Colab上的磁盘空间\n",
        ">>Colab上的文件运行是在云端虚拟机上，因此下载的各种Python库都下载到云端虚拟机上，与电脑关系不大，如果使用GPU加速，Colab将会分配更多的虚拟机内存，但是这还远远不够，如果要增加虚拟机内存只能购买ColabPro或者多开几个账号，与Google云盘的存储空间没有太大关系。通过以下代码可以实现将谷歌云中的文件保存在Colab虚拟机上"
      ],
      "metadata": {
        "id": "p2siQsEXwOkA"
      }
    },
    {
      "cell_type": "code",
      "source": [
        "# 在content/drive文件夹下，两者文件共享\n",
        "from google.colab import drive\n",
        "drive.mount('/content/drive')"
      ],
      "metadata": {
        "colab": {
          "base_uri": "https://localhost:8080/"
        },
        "id": "d4Oe8zNEzTMp",
        "outputId": "150fb51b-2b92-4e20-c089-f1def6b0572c"
      },
      "execution_count": 1,
      "outputs": [
        {
          "output_type": "stream",
          "name": "stdout",
          "text": [
            "Mounted at /content/drive\n"
          ]
        }
      ]
    },
    {
      "cell_type": "markdown",
      "source": [
        "##在Colab上使用GPU加速\n",
        ">选择顶部工具栏中的`代码执行程序`子目录下的`更改运行时类型`中的`GPU`，从而使用云端图形加速。通过以下代码查看现在是否正在使用GPU加速"
      ],
      "metadata": {
        "id": "kyp6pZSk8bTW"
      }
    },
    {
      "cell_type": "code",
      "source": [
        "!nvidia-smi"
      ],
      "metadata": {
        "colab": {
          "base_uri": "https://localhost:8080/"
        },
        "id": "WwZOoG9f8Q7t",
        "outputId": "3ded8130-4806-4ca7-99d8-24c69470ff72"
      },
      "execution_count": 2,
      "outputs": [
        {
          "output_type": "stream",
          "name": "stdout",
          "text": [
            "Wed Sep 25 02:10:16 2024       \n",
            "+---------------------------------------------------------------------------------------+\n",
            "| NVIDIA-SMI 535.104.05             Driver Version: 535.104.05   CUDA Version: 12.2     |\n",
            "|-----------------------------------------+----------------------+----------------------+\n",
            "| GPU  Name                 Persistence-M | Bus-Id        Disp.A | Volatile Uncorr. ECC |\n",
            "| Fan  Temp   Perf          Pwr:Usage/Cap |         Memory-Usage | GPU-Util  Compute M. |\n",
            "|                                         |                      |               MIG M. |\n",
            "|=========================================+======================+======================|\n",
            "|   0  Tesla T4                       Off | 00000000:00:04.0 Off |                    0 |\n",
            "| N/A   36C    P8               9W /  70W |      0MiB / 15360MiB |      0%      Default |\n",
            "|                                         |                      |                  N/A |\n",
            "+-----------------------------------------+----------------------+----------------------+\n",
            "                                                                                         \n",
            "+---------------------------------------------------------------------------------------+\n",
            "| Processes:                                                                            |\n",
            "|  GPU   GI   CI        PID   Type   Process name                            GPU Memory |\n",
            "|        ID   ID                                                             Usage      |\n",
            "|=======================================================================================|\n",
            "|  No running processes found                                                           |\n",
            "+---------------------------------------------------------------------------------------+\n"
          ]
        }
      ]
    },
    {
      "cell_type": "markdown",
      "source": [
        "##应用CUDA\n",
        ">CUDA是NVIDIA公司开发的，能用GPU运算除了图形化处理之外的计算机算法的库。没有CUDA，GPU就只能用来打游戏，现在可以应用其来跑机器学习模型。以下代码就可以检测是否已经加载CUDA，如果此时使用CPU加速，则返回值应该是`False`,GPU加速的话应该返回的是`True`"
      ],
      "metadata": {
        "id": "YOetkwvB9-fM"
      }
    },
    {
      "cell_type": "code",
      "source": [
        "import torch as th\n",
        "th.cuda.is_available()\n"
      ],
      "metadata": {
        "colab": {
          "base_uri": "https://localhost:8080/"
        },
        "id": "_cVnHlYCyaLp",
        "outputId": "3dfc2c50-c1fa-4ccc-e3b3-77f545d9f6c6"
      },
      "execution_count": 3,
      "outputs": [
        {
          "output_type": "execute_result",
          "data": {
            "text/plain": [
              "True"
            ]
          },
          "metadata": {},
          "execution_count": 3
        }
      ]
    }
  ]
}