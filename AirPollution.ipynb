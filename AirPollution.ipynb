{
  "nbformat": 4,
  "nbformat_minor": 0,
  "metadata": {
    "colab": {
      "provenance": [],
      "gpuType": "T4",
      "authorship_tag": "ABX9TyNnA0u/0cA8ziQjbeMoiQKo",
      "include_colab_link": true
    },
    "kernelspec": {
      "name": "python3",
      "display_name": "Python 3"
    },
    "language_info": {
      "name": "python"
    },
    "accelerator": "GPU"
  },
  "cells": [
    {
      "cell_type": "markdown",
      "metadata": {
        "id": "view-in-github",
        "colab_type": "text"
      },
      "source": [
        "<a href=\"https://colab.research.google.com/github/ZackWongAPO/Colab/blob/main/AirPollution.ipynb\" target=\"_parent\"><img src=\"https://colab.research.google.com/assets/colab-badge.svg\" alt=\"Open In Colab\"/></a>"
      ]
    },
    {
      "cell_type": "markdown",
      "source": [
        "#预测空气质量回归模型\n",
        "##了解Colab\n",
        ">Colab是一个在线笔记本，相当于OneNote的在线版本，并且可以将内容保存在GitHub账户上，主要支持Python系编程语言与多种文本注释语言，例如Markdown，LATEX，终端命令行等等，与线下Python编辑器不同，Colab允许用户对代码块进行分块执行，并且可以快速协作，不用不知道，一用是真香。\n",
        ">>此页面并非Colab主页，只能在[Colab](https://colab.google/)中创建自己的笔记本，对大多数开源笔记本也只能保存副本至GitHub账户\n",
        "##Colab上的磁盘空间\n",
        ">>Colab上的文件运行是在云端虚拟机上，因此下载的各种Python库都下载到云端虚拟机上，与电脑关系不大，如果使用GPU加速，Colab将会分配更多的虚拟机内存，但是这还远远不够，如果要增加虚拟机内存只能购买ColabPro或者多开几个账号，与Google云盘的存储空间没有太大关系。通过以下代码可以实现将谷歌云中的文件保存在Colab虚拟机上"
      ],
      "metadata": {
        "id": "p2siQsEXwOkA"
      }
    },
    {
      "cell_type": "code",
      "source": [
        "# 在content/drive文件夹下，两者文件共享\n",
        "from google.colab import drive\n",
        "drive.mount('/content/drive')"
      ],
      "metadata": {
        "colab": {
          "base_uri": "https://localhost:8080/"
        },
        "id": "d4Oe8zNEzTMp",
        "outputId": "150fb51b-2b92-4e20-c089-f1def6b0572c"
      },
      "execution_count": 1,
      "outputs": [
        {
          "output_type": "stream",
          "name": "stdout",
          "text": [
            "Mounted at /content/drive\n"
          ]
        }
      ]
    },
    {
      "cell_type": "code",
      "source": [
        "import numpy as np\n",
        "import matplotlib as plt\n",
        "import torch as th\n",
        "th.cuda.is_available()\n"
      ],
      "metadata": {
        "colab": {
          "base_uri": "https://localhost:8080/"
        },
        "id": "_cVnHlYCyaLp",
        "outputId": "e462fd9a-1a85-454f-e829-9dc547af0916"
      },
      "execution_count": 1,
      "outputs": [
        {
          "output_type": "execute_result",
          "data": {
            "text/plain": [
              "False"
            ]
          },
          "metadata": {},
          "execution_count": 1
        }
      ]
    }
  ]
}